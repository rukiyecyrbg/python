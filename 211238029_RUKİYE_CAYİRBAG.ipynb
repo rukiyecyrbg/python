{
  "nbformat": 4,
  "nbformat_minor": 0,
  "metadata": {
    "colab": {
      "provenance": [],
      "authorship_tag": "ABX9TyODxIk/zJgKzplYZR+KOCh1",
      "include_colab_link": true
    },
    "kernelspec": {
      "name": "python3",
      "display_name": "Python 3"
    },
    "language_info": {
      "name": "python"
    }
  },
  "cells": [
    {
      "cell_type": "markdown",
      "metadata": {
        "id": "view-in-github",
        "colab_type": "text"
      },
      "source": [
        "<a href=\"https://colab.research.google.com/github/rukiyecyrbg/python/blob/main/211238029_RUK%C4%B0YE_CAY%C4%B0RBAG.ipynb\" target=\"_parent\"><img src=\"https://colab.research.google.com/assets/colab-badge.svg\" alt=\"Open In Colab\"/></a>"
      ]
    },
    {
      "cell_type": "code",
      "execution_count": null,
      "metadata": {
        "id": "uZPxveqc67lO"
      },
      "outputs": [],
      "source": [
        "1.soru"
      ]
    },
    {
      "cell_type": "code",
      "source": [
        "sayi1 = float(input(\"Lütfen birinci sayıyı girin: \"))\n",
        "sayi2 = float(input(\"Lütfen ikinci sayıyı girin: \"))\n",
        "sayi3 = float(input(\"Lütfen üçüncü sayıyı girin: \"))\n",
        "\n",
        "carpim = sayi1 * sayi2 * sayi3\n",
        "\n",
        "print(\"Çarpım: {}\".format(carpim))"
      ],
      "metadata": {
        "colab": {
          "base_uri": "https://localhost:8080/"
        },
        "id": "eG5nlli37kES",
        "outputId": "c911b2f5-614e-4315-9dce-a32954847de7"
      },
      "execution_count": null,
      "outputs": [
        {
          "output_type": "stream",
          "name": "stdout",
          "text": [
            "Lütfen birinci sayıyı girin: 15\n",
            "Lütfen ikinci sayıyı girin: 10\n",
            "Lütfen üçüncü sayıyı girin: 2\n",
            "Çarpım: 300.0\n"
          ]
        }
      ]
    },
    {
      "cell_type": "markdown",
      "source": [
        "2.soru"
      ],
      "metadata": {
        "id": "_tNwCNVI7u9r"
      }
    },
    {
      "cell_type": "code",
      "source": [
        "boy = float(input(\"Boyunuzu (metre cinsinden) girin: \"))\n",
        "kilo = int(input(\"Kilonuzu girin: \"))\n",
        "\n",
        "bki = kilo / boy * boy\n",
        "\n",
        "print(\"Beden Kitle İndeksiniz: {}\".format(int(bki)))"
      ],
      "metadata": {
        "colab": {
          "base_uri": "https://localhost:8080/"
        },
        "id": "KeEm29s97zTb",
        "outputId": "4fd88072-2c9a-4bc0-9147-b23c78f1ac76"
      },
      "execution_count": 2,
      "outputs": [
        {
          "output_type": "stream",
          "name": "stdout",
          "text": [
            "Boyunuzu (metre cinsinden) girin: 170\n",
            "Kilonuzu girin: 80\n",
            "Beden Kitle İndeksiniz: 80\n"
          ]
        }
      ]
    },
    {
      "cell_type": "markdown",
      "source": [
        "3.soru"
      ],
      "metadata": {
        "id": "S3AOd5Fc8GHW"
      }
    },
    {
      "cell_type": "code",
      "source": [
        "dize = input(\"Bir dize girin: \")\n",
        "\n",
        "uzunluk = len(dize)\n",
        "\n",
        "print(\"Girilen dizgenin uzunluğu: {}\".format(uzunluk))"
      ],
      "metadata": {
        "colab": {
          "base_uri": "https://localhost:8080/"
        },
        "id": "OJSPVOK88Ao_",
        "outputId": "8f641746-62b6-4664-f14f-8ec637605aa4"
      },
      "execution_count": 3,
      "outputs": [
        {
          "output_type": "stream",
          "name": "stdout",
          "text": [
            "Bir dize girin: jglfkjtdyıtfyuyuhgvhuuc\n",
            "Girilen dizgenin uzunluğu: 23\n"
          ]
        }
      ]
    },
    {
      "cell_type": "markdown",
      "source": [
        "4.soru"
      ],
      "metadata": {
        "id": "J4g_YiHU8VP_"
      }
    },
    {
      "cell_type": "code",
      "source": [
        "NOT1 = input(\"Bir not girin:\")\n",
        "NOT2 = input(\"Bir not girin:\")\n",
        "NOT3 = input(\"Bir not girin:\")\n",
        "\n",
        "ortalama = (float(NOT1) + float(NOT2) + float(NOT3)) / 3\n",
        "\n",
        "yuzde = (ortalama / 100) * 100\n",
        "\n",
        "if yuzde >= 90:\n",
        "    performans = \"Mükemmel\"\n",
        "elif yuzde >= 80:\n",
        "    performans = \"Çok İyi\"\n",
        "elif yuzde >= 70:\n",
        "    performans = \"İyi\"\n",
        "elif yuzde >= 60:\n",
        "    performans = \"Ortalama\"\n",
        "else:\n",
        "    performans = \"Düşük\"\n",
        "    \n",
        "print(\"Not ortalaması: {:.2f}, Yüzde: {:.2f}, Performans: {}\".format(ortalama, yuzde, performans))"
      ],
      "metadata": {
        "colab": {
          "base_uri": "https://localhost:8080/"
        },
        "id": "oT8XLVJN8P7d",
        "outputId": "ee2edd1c-b2e7-44f9-9457-9647239119f6"
      },
      "execution_count": 5,
      "outputs": [
        {
          "output_type": "stream",
          "name": "stdout",
          "text": [
            "Bir not girin:50\n",
            "Bir not girin:60\n",
            "Bir not girin:95\n",
            "Not ortalaması: 68.33, Yüzde: 68.33, Performans: Ortalama\n"
          ]
        }
      ]
    },
    {
      "cell_type": "markdown",
      "source": [],
      "metadata": {
        "id": "YVlpWOKj7h2_"
      }
    }
  ]
}